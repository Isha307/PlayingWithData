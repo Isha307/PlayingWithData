{
  "nbformat": 4,
  "nbformat_minor": 0,
  "metadata": {
    "colab": {
      "name": "TopRatedMovie.ipynb",
      "provenance": []
    },
    "kernelspec": {
      "name": "python3",
      "display_name": "Python 3"
    },
    "language_info": {
      "name": "python"
    }
  },
  "cells": [
    {
      "cell_type": "code",
      "metadata": {
        "colab": {
          "base_uri": "https://localhost:8080/"
        },
        "id": "QAUUmgqJEEch",
        "outputId": "119c6a4f-a013-471a-d907-ac90850477bf"
      },
      "source": [
        "!pip install imdbpy\n",
        "import imdb"
      ],
      "execution_count": 4,
      "outputs": [
        {
          "output_type": "stream",
          "text": [
            "Collecting imdbpy\n",
            "\u001b[?25l  Downloading https://files.pythonhosted.org/packages/93/49/1d6c29154deed34de46340bf968839a63639f1b23b6f7402b861a222376c/IMDbPY-2021.4.18-py3-none-any.whl (298kB)\n",
            "\r\u001b[K     |█                               | 10kB 13.3MB/s eta 0:00:01\r\u001b[K     |██▏                             | 20kB 19.9MB/s eta 0:00:01\r\u001b[K     |███▎                            | 30kB 24.2MB/s eta 0:00:01\r\u001b[K     |████▍                           | 40kB 26.9MB/s eta 0:00:01\r\u001b[K     |█████▌                          | 51kB 30.1MB/s eta 0:00:01\r\u001b[K     |██████▋                         | 61kB 32.1MB/s eta 0:00:01\r\u001b[K     |███████▊                        | 71kB 33.4MB/s eta 0:00:01\r\u001b[K     |████████▉                       | 81kB 32.3MB/s eta 0:00:01\r\u001b[K     |█████████▉                      | 92kB 32.9MB/s eta 0:00:01\r\u001b[K     |███████████                     | 102kB 33.1MB/s eta 0:00:01\r\u001b[K     |████████████                    | 112kB 33.1MB/s eta 0:00:01\r\u001b[K     |█████████████▏                  | 122kB 33.1MB/s eta 0:00:01\r\u001b[K     |██████████████▎                 | 133kB 33.1MB/s eta 0:00:01\r\u001b[K     |███████████████▍                | 143kB 33.1MB/s eta 0:00:01\r\u001b[K     |████████████████▌               | 153kB 33.1MB/s eta 0:00:01\r\u001b[K     |█████████████████▋              | 163kB 33.1MB/s eta 0:00:01\r\u001b[K     |██████████████████▋             | 174kB 33.1MB/s eta 0:00:01\r\u001b[K     |███████████████████▊            | 184kB 33.1MB/s eta 0:00:01\r\u001b[K     |████████████████████▉           | 194kB 33.1MB/s eta 0:00:01\r\u001b[K     |██████████████████████          | 204kB 33.1MB/s eta 0:00:01\r\u001b[K     |███████████████████████         | 215kB 33.1MB/s eta 0:00:01\r\u001b[K     |████████████████████████▏       | 225kB 33.1MB/s eta 0:00:01\r\u001b[K     |█████████████████████████▎      | 235kB 33.1MB/s eta 0:00:01\r\u001b[K     |██████████████████████████▍     | 245kB 33.1MB/s eta 0:00:01\r\u001b[K     |███████████████████████████▍    | 256kB 33.1MB/s eta 0:00:01\r\u001b[K     |████████████████████████████▌   | 266kB 33.1MB/s eta 0:00:01\r\u001b[K     |█████████████████████████████▋  | 276kB 33.1MB/s eta 0:00:01\r\u001b[K     |██████████████████████████████▊ | 286kB 33.1MB/s eta 0:00:01\r\u001b[K     |███████████████████████████████▉| 296kB 33.1MB/s eta 0:00:01\r\u001b[K     |████████████████████████████████| 307kB 33.1MB/s \n",
            "\u001b[?25hRequirement already satisfied: SQLAlchemy in /usr/local/lib/python3.7/dist-packages (from imdbpy) (1.4.15)\n",
            "Requirement already satisfied: lxml in /usr/local/lib/python3.7/dist-packages (from imdbpy) (4.2.6)\n",
            "Requirement already satisfied: greenlet!=0.4.17; python_version >= \"3\" in /usr/local/lib/python3.7/dist-packages (from SQLAlchemy->imdbpy) (1.1.0)\n",
            "Requirement already satisfied: importlib-metadata; python_version < \"3.8\" in /usr/local/lib/python3.7/dist-packages (from SQLAlchemy->imdbpy) (4.0.1)\n",
            "Requirement already satisfied: zipp>=0.5 in /usr/local/lib/python3.7/dist-packages (from importlib-metadata; python_version < \"3.8\"->SQLAlchemy->imdbpy) (3.4.1)\n",
            "Requirement already satisfied: typing-extensions>=3.6.4; python_version < \"3.8\" in /usr/local/lib/python3.7/dist-packages (from importlib-metadata; python_version < \"3.8\"->SQLAlchemy->imdbpy) (3.7.4.3)\n",
            "Installing collected packages: imdbpy\n",
            "Successfully installed imdbpy-2021.4.18\n"
          ],
          "name": "stdout"
        }
      ]
    },
    {
      "cell_type": "code",
      "metadata": {
        "id": "dikp_qoJGIsY"
      },
      "source": [
        "movie = imdb.IMDb()"
      ],
      "execution_count": 6,
      "outputs": []
    },
    {
      "cell_type": "code",
      "metadata": {
        "id": "j7DpR_U3GLYs"
      },
      "source": [
        "search = movie.get_top250_indian_movies()"
      ],
      "execution_count": 7,
      "outputs": []
    },
    {
      "cell_type": "code",
      "metadata": {
        "colab": {
          "base_uri": "https://localhost:8080/"
        },
        "id": "gJU9kcj0Gn4d",
        "outputId": "df8305e6-ff2f-4bae-fdef-795b84b00967"
      },
      "source": [
        "for i in range(50):\n",
        "  print(search[i])"
      ],
      "execution_count": 10,
      "outputs": [
        {
          "output_type": "stream",
          "text": [
            "Pather Panchali\n",
            "Nayakan\n",
            "Anbe Sivam\n",
            "Hanky Panky\n",
            "Pariyerum Perumal\n",
            "C/o Kancharapalem\n",
            "Drishyam 2\n",
            "The World of Apu\n",
            "Kireedam\n",
            "Natsamrat\n",
            "Manichitrathazhu\n",
            "96\n",
            "Black Friday\n",
            "Thevar Magan\n",
            "Kumbalangi Nights\n",
            "3 Idiots\n",
            "Visaaranai\n",
            "Like Stars on Earth\n",
            "Raatchasan\n",
            "Jersey\n",
            "Dangal\n",
            "Thalapathi\n",
            "Soorarai Pottru\n",
            "Aparajito\n",
            "Asuran\n",
            "Kaithi\n",
            "Jaane Bhi Do Yaaro\n",
            "Pyaasa\n",
            "Guide\n",
            "Peranbu\n",
            "A Peck on the Cheek\n",
            "Thani Oruvan\n",
            "Vada Chennai\n",
            "Chupke Chupke\n",
            "Spadikam\n",
            "Iruvar\n",
            "Vikram Vedha\n",
            "Drishyam\n",
            "Aruvi\n",
            "Agent Sai Srinivasa Athreya\n",
            "Super Deluxe\n",
            "Mahanati\n",
            "Khosla Ka Ghosla!\n",
            "Tumbbad\n",
            "Anand\n",
            "Pudhu Pettai\n",
            "Premam\n",
            "Kaakkaa Muttai\n",
            "Anniyan\n",
            "Andhadhun\n"
          ],
          "name": "stdout"
        }
      ]
    }
  ]
}