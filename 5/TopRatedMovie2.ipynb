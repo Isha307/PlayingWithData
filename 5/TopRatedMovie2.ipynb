{
  "nbformat": 4,
  "nbformat_minor": 0,
  "metadata": {
    "colab": {
      "name": "TopRatedMovie2.ipynb",
      "provenance": []
    },
    "kernelspec": {
      "name": "python3",
      "display_name": "Python 3"
    },
    "language_info": {
      "name": "python"
    }
  },
  "cells": [
    {
      "cell_type": "code",
      "metadata": {
        "colab": {
          "base_uri": "https://localhost:8080/"
        },
        "id": "QAUUmgqJEEch",
        "outputId": "57ba4ae4-5d20-4649-d887-7bb637dd5caa"
      },
      "source": [
        "!pip install imdbpy\n",
        "import imdb"
      ],
      "execution_count": 2,
      "outputs": [
        {
          "output_type": "stream",
          "text": [
            "Collecting imdbpy\n",
            "\u001b[?25l  Downloading https://files.pythonhosted.org/packages/93/49/1d6c29154deed34de46340bf968839a63639f1b23b6f7402b861a222376c/IMDbPY-2021.4.18-py3-none-any.whl (298kB)\n",
            "\r\u001b[K     |█                               | 10kB 15.1MB/s eta 0:00:01\r\u001b[K     |██▏                             | 20kB 19.8MB/s eta 0:00:01\r\u001b[K     |███▎                            | 30kB 23.5MB/s eta 0:00:01\r\u001b[K     |████▍                           | 40kB 26.7MB/s eta 0:00:01\r\u001b[K     |█████▌                          | 51kB 29.8MB/s eta 0:00:01\r\u001b[K     |██████▋                         | 61kB 31.6MB/s eta 0:00:01\r\u001b[K     |███████▊                        | 71kB 33.0MB/s eta 0:00:01\r\u001b[K     |████████▉                       | 81kB 32.9MB/s eta 0:00:01\r\u001b[K     |█████████▉                      | 92kB 29.4MB/s eta 0:00:01\r\u001b[K     |███████████                     | 102kB 28.3MB/s eta 0:00:01\r\u001b[K     |████████████                    | 112kB 28.3MB/s eta 0:00:01\r\u001b[K     |█████████████▏                  | 122kB 28.3MB/s eta 0:00:01\r\u001b[K     |██████████████▎                 | 133kB 28.3MB/s eta 0:00:01\r\u001b[K     |███████████████▍                | 143kB 28.3MB/s eta 0:00:01\r\u001b[K     |████████████████▌               | 153kB 28.3MB/s eta 0:00:01\r\u001b[K     |█████████████████▋              | 163kB 28.3MB/s eta 0:00:01\r\u001b[K     |██████████████████▋             | 174kB 28.3MB/s eta 0:00:01\r\u001b[K     |███████████████████▊            | 184kB 28.3MB/s eta 0:00:01\r\u001b[K     |████████████████████▉           | 194kB 28.3MB/s eta 0:00:01\r\u001b[K     |██████████████████████          | 204kB 28.3MB/s eta 0:00:01\r\u001b[K     |███████████████████████         | 215kB 28.3MB/s eta 0:00:01\r\u001b[K     |████████████████████████▏       | 225kB 28.3MB/s eta 0:00:01\r\u001b[K     |█████████████████████████▎      | 235kB 28.3MB/s eta 0:00:01\r\u001b[K     |██████████████████████████▍     | 245kB 28.3MB/s eta 0:00:01\r\u001b[K     |███████████████████████████▍    | 256kB 28.3MB/s eta 0:00:01\r\u001b[K     |████████████████████████████▌   | 266kB 28.3MB/s eta 0:00:01\r\u001b[K     |█████████████████████████████▋  | 276kB 28.3MB/s eta 0:00:01\r\u001b[K     |██████████████████████████████▊ | 286kB 28.3MB/s eta 0:00:01\r\u001b[K     |███████████████████████████████▉| 296kB 28.3MB/s eta 0:00:01\r\u001b[K     |████████████████████████████████| 307kB 28.3MB/s \n",
            "\u001b[?25hRequirement already satisfied: lxml in /usr/local/lib/python3.7/dist-packages (from imdbpy) (4.2.6)\n",
            "Requirement already satisfied: SQLAlchemy in /usr/local/lib/python3.7/dist-packages (from imdbpy) (1.4.15)\n",
            "Requirement already satisfied: greenlet!=0.4.17; python_version >= \"3\" in /usr/local/lib/python3.7/dist-packages (from SQLAlchemy->imdbpy) (1.1.0)\n",
            "Requirement already satisfied: importlib-metadata; python_version < \"3.8\" in /usr/local/lib/python3.7/dist-packages (from SQLAlchemy->imdbpy) (4.0.1)\n",
            "Requirement already satisfied: zipp>=0.5 in /usr/local/lib/python3.7/dist-packages (from importlib-metadata; python_version < \"3.8\"->SQLAlchemy->imdbpy) (3.4.1)\n",
            "Requirement already satisfied: typing-extensions>=3.6.4; python_version < \"3.8\" in /usr/local/lib/python3.7/dist-packages (from importlib-metadata; python_version < \"3.8\"->SQLAlchemy->imdbpy) (3.7.4.3)\n",
            "Installing collected packages: imdbpy\n",
            "Successfully installed imdbpy-2021.4.18\n"
          ],
          "name": "stdout"
        }
      ]
    },
    {
      "cell_type": "code",
      "metadata": {
        "id": "dikp_qoJGIsY"
      },
      "source": [
        "movie = imdb.IMDb()"
      ],
      "execution_count": 3,
      "outputs": []
    },
    {
      "cell_type": "code",
      "metadata": {
        "id": "j7DpR_U3GLYs"
      },
      "source": [
        "search = movie.get_top250_movies()"
      ],
      "execution_count": 4,
      "outputs": []
    },
    {
      "cell_type": "code",
      "metadata": {
        "colab": {
          "base_uri": "https://localhost:8080/"
        },
        "id": "gJU9kcj0Gn4d",
        "outputId": "31197c44-532b-401c-9aea-2ecb31820eb5"
      },
      "source": [
        "for i in range(100):\n",
        "  print(search[i])"
      ],
      "execution_count": 6,
      "outputs": [
        {
          "output_type": "stream",
          "text": [
            "The Shawshank Redemption\n",
            "The Godfather\n",
            "The Godfather: Part II\n",
            "The Dark Knight\n",
            "12 Angry Men\n",
            "Schindler's List\n",
            "The Lord of the Rings: The Return of the King\n",
            "Pulp Fiction\n",
            "The Good, the Bad and the Ugly\n",
            "The Lord of the Rings: The Fellowship of the Ring\n",
            "Fight Club\n",
            "Forrest Gump\n",
            "Inception\n",
            "The Lord of the Rings: The Two Towers\n",
            "Star Wars: Episode V - The Empire Strikes Back\n",
            "The Matrix\n",
            "Goodfellas\n",
            "One Flew Over the Cuckoo's Nest\n",
            "Seven Samurai\n",
            "Se7en\n",
            "The Silence of the Lambs\n",
            "City of God\n",
            "It's a Wonderful Life\n",
            "Life Is Beautiful\n",
            "Star Wars: Episode IV - A New Hope\n",
            "Saving Private Ryan\n",
            "Spirited Away\n",
            "The Green Mile\n",
            "Interstellar\n",
            "Parasite\n",
            "Léon: The Professional\n",
            "Hara-Kiri\n",
            "The Usual Suspects\n",
            "The Pianist\n",
            "Back to the Future\n",
            "Terminator 2: Judgment Day\n",
            "Modern Times\n",
            "Psycho\n",
            "The Lion King\n",
            "American History X\n",
            "City Lights\n",
            "Gladiator\n",
            "The Departed\n",
            "Whiplash\n",
            "Grave of the Fireflies\n",
            "The Intouchables\n",
            "The Prestige\n",
            "Casablanca\n",
            "Once Upon a Time in the West\n",
            "Rear Window\n",
            "Cinema Paradiso\n",
            "Alien\n",
            "Apocalypse Now\n",
            "Memento\n",
            "Indiana Jones and the Raiders of the Lost Ark\n",
            "The Great Dictator\n",
            "The Lives of Others\n",
            "Django Unchained\n",
            "Paths of Glory\n",
            "Sunset Blvd.\n",
            "WALL·E\n",
            "The Shining\n",
            "Joker\n",
            "Avengers: Infinity War\n",
            "Witness for the Prosecution\n",
            "Dr. Strangelove or: How I Learned to Stop Worrying and Love the Bomb\n",
            "Spider-Man: Into the Spider-Verse\n",
            "Hamilton\n",
            "Princess Mononoke\n",
            "Oldboy\n",
            "Once Upon a Time in America\n",
            "Your Name.\n",
            "The Dark Knight Rises\n",
            "Aliens\n",
            "Coco\n",
            "Das Boot\n",
            "Capernaum\n",
            "Avengers: Endgame\n",
            "High and Low\n",
            "American Beauty\n",
            "Toy Story\n",
            "Braveheart\n",
            "Amadeus\n",
            "3 Idiots\n",
            "Inglourious Basterds\n",
            "Good Will Hunting\n",
            "Star Wars: Episode VI - Return of the Jedi\n",
            "Reservoir Dogs\n",
            "2001: A Space Odyssey\n",
            "M\n",
            "Like Stars on Earth\n",
            "Citizen Kane\n",
            "Vertigo\n",
            "Requiem for a Dream\n",
            "The Hunt\n",
            "North by Northwest\n",
            "Singin' in the Rain\n",
            "Eternal Sunshine of the Spotless Mind\n",
            "Come and See\n",
            "Bicycle Thieves\n"
          ],
          "name": "stdout"
        }
      ]
    }
  ]
}